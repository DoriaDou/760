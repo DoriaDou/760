{
  "cells": [
    {
      "cell_type": "markdown",
      "metadata": {
        "id": "IPpcj2B9ergT"
      },
      "source": [
        "# Baseline Model- without crime data"
      ]
    },
    {
      "cell_type": "code",
      "execution_count": null,
      "metadata": {
        "id": "jQOeVbrIXf99"
      },
      "outputs": [],
      "source": [
        "import os\n",
        "path = \"/content/drive/MyDrive/COMPSCI760\"\n",
        "os.chdir(path)"
      ]
    },
    {
      "cell_type": "code",
      "execution_count": null,
      "metadata": {
        "id": "LVHEEdy3Yi5j"
      },
      "outputs": [],
      "source": [
        "import numpy as np\n",
        "import pandas as pd\n",
        "import matplotlib.pyplot as plt\n",
        "import seaborn as sns\n",
        "from sklearn import preprocessing\n",
        "from sklearn.preprocessing import StandardScaler\n",
        "\n",
        "from sklearn.linear_model import LinearRegression\n",
        "from sklearn.linear_model import Ridge\n",
        "from sklearn.tree import DecisionTreeRegressor\n",
        "from sklearn.ensemble import RandomForestRegressor\n",
        "from sklearn.neural_network import MLPRegressor\n",
        "\n",
        "from sklearn.model_selection import cross_val_score\n",
        "from sklearn.metrics import mean_squared_error\n",
        "from sklearn.model_selection import GridSearchCV\n",
        "\n",
        "import warnings\n",
        "warnings.filterwarnings(\"ignore\")"
      ]
    },
    {
      "cell_type": "code",
      "execution_count": null,
      "metadata": {
        "colab": {
          "base_uri": "https://localhost:8080/"
        },
        "id": "hK6q20aVezRW",
        "outputId": "390569f1-a5bb-4034-b7a0-491c9d396467"
      },
      "outputs": [
        {
          "output_type": "execute_result",
          "data": {
            "text/plain": [
              "Index(['averge_room', 'Male', 'Female', 'Average Age', 'European', 'Māori',\n",
              "       'Pacific Peoples', 'Asian', 'Middle Eastern / Latin American / African',\n",
              "       'Other Ethnicity', 'New Zealander(19)', 'Other Ethnicity nec(19)',\n",
              "       'Median personal income($)', 'Employed Full time', 'Employed Part time',\n",
              "       'Unemployed', 'Paid employee', 'Employer',\n",
              "       'Self employed and without employees', 'Unpaid family worker',\n",
              "       'mean_CV', 'mean_FA', 'mean_AR', 'mean_bed', 'mean_Bath', 'mean_Price',\n",
              "       'mean_school'],\n",
              "      dtype='object')"
            ]
          },
          "metadata": {},
          "execution_count": 3
        }
      ],
      "source": [
        "f = pd.read_csv('/content/drive/MyDrive/COMPSCI760/data_withoutcrime_27.csv')\n",
        "f.columns"
      ]
    },
    {
      "cell_type": "code",
      "execution_count": null,
      "metadata": {
        "colab": {
          "base_uri": "https://localhost:8080/"
        },
        "id": "kgbYhYGjASXC",
        "outputId": "f33fb49b-bce2-4a29-e2ac-3b349fc5d90f"
      },
      "outputs": [
        {
          "output_type": "execute_result",
          "data": {
            "text/plain": [
              "Index(['averge_room', 'Male', 'Female', 'Average Age', 'European', 'Māori',\n",
              "       'Pacific Peoples', 'Asian', 'Middle Eastern / Latin American / African',\n",
              "       'Other Ethnicity', 'New Zealander(19)', 'Other Ethnicity nec(19)',\n",
              "       'Median personal income($)', 'Employed Full time', 'Employed Part time',\n",
              "       'Unemployed', 'Paid employee', 'Employer',\n",
              "       'Self employed and without employees', 'Unpaid family worker',\n",
              "       'median_CV', 'median_FA', 'median_AR', 'median_Bed', 'median_Bath',\n",
              "       'median_Price', 'median_School'],\n",
              "      dtype='object')"
            ]
          },
          "metadata": {},
          "execution_count": 4
        }
      ],
      "source": [
        "f = f.rename(columns={'mean_CV':'median_CV', 'mean_FA':'median_FA','mean_AR':'median_AR','mean_bed':'median_Bed','mean_Bath':'median_Bath','mean_Price':'median_Price','mean_school':'median_School'})\n",
        "f.columns"
      ]
    },
    {
      "cell_type": "code",
      "execution_count": null,
      "metadata": {
        "colab": {
          "base_uri": "https://localhost:8080/"
        },
        "id": "24cQ1G6fEWFH",
        "outputId": "43c033aa-320b-4e6a-883f-7d7f4149afa9"
      },
      "outputs": [
        {
          "output_type": "stream",
          "name": "stdout",
          "text": [
            "(7938, 26) (7938, 25) (7938,)\n"
          ]
        }
      ],
      "source": [
        "xf = f.drop(['median_Price'], axis=1)\n",
        "xf_nocv = f.drop(['median_CV', 'median_Price'], axis = 1)\n",
        "yf = f['median_Price']\n",
        "print(xf.shape, xf_nocv.shape, yf.shape)"
      ]
    },
    {
      "cell_type": "code",
      "source": [
        "xf.head(2)"
      ],
      "metadata": {
        "colab": {
          "base_uri": "https://localhost:8080/",
          "height": 292
        },
        "id": "4g4zGfqeNEba",
        "outputId": "996661ec-de61-464b-b854-06874eb391f8"
      },
      "execution_count": null,
      "outputs": [
        {
          "output_type": "execute_result",
          "data": {
            "text/plain": [
              "   averge_room     Male   Female  Average Age  European     Māori  \\\n",
              "0     2.684211  0.58000  0.42000    41.423077  0.703125  0.265625   \n",
              "1     2.161290  0.54717  0.45283    50.076923  0.746032  0.142857   \n",
              "\n",
              "   Pacific Peoples     Asian  Middle Eastern / Latin American / African  \\\n",
              "0         0.000000  0.000000                                        0.0   \n",
              "1         0.047619  0.015873                                        0.0   \n",
              "\n",
              "   Other Ethnicity  ...  Paid employee  Employer  \\\n",
              "0         0.015625  ...       0.339286  0.035714   \n",
              "1         0.015873  ...       0.297872  0.042553   \n",
              "\n",
              "   Self employed and without employees  Unpaid family worker  median_CV  \\\n",
              "0                                  382              0.017857   217000.0   \n",
              "1                                  364              0.042553   225000.0   \n",
              "\n",
              "   median_FA  median_AR  median_Bed  median_Bath  median_School  \n",
              "0       87.0    0.16005         2.0          1.0            0.0  \n",
              "1       77.0    0.08790         2.0          1.0            0.0  \n",
              "\n",
              "[2 rows x 26 columns]"
            ],
            "text/html": [
              "\n",
              "  <div id=\"df-69f54571-898e-40ef-8fa8-80206559e2a9\">\n",
              "    <div class=\"colab-df-container\">\n",
              "      <div>\n",
              "<style scoped>\n",
              "    .dataframe tbody tr th:only-of-type {\n",
              "        vertical-align: middle;\n",
              "    }\n",
              "\n",
              "    .dataframe tbody tr th {\n",
              "        vertical-align: top;\n",
              "    }\n",
              "\n",
              "    .dataframe thead th {\n",
              "        text-align: right;\n",
              "    }\n",
              "</style>\n",
              "<table border=\"1\" class=\"dataframe\">\n",
              "  <thead>\n",
              "    <tr style=\"text-align: right;\">\n",
              "      <th></th>\n",
              "      <th>averge_room</th>\n",
              "      <th>Male</th>\n",
              "      <th>Female</th>\n",
              "      <th>Average Age</th>\n",
              "      <th>European</th>\n",
              "      <th>Māori</th>\n",
              "      <th>Pacific Peoples</th>\n",
              "      <th>Asian</th>\n",
              "      <th>Middle Eastern / Latin American / African</th>\n",
              "      <th>Other Ethnicity</th>\n",
              "      <th>...</th>\n",
              "      <th>Paid employee</th>\n",
              "      <th>Employer</th>\n",
              "      <th>Self employed and without employees</th>\n",
              "      <th>Unpaid family worker</th>\n",
              "      <th>median_CV</th>\n",
              "      <th>median_FA</th>\n",
              "      <th>median_AR</th>\n",
              "      <th>median_Bed</th>\n",
              "      <th>median_Bath</th>\n",
              "      <th>median_School</th>\n",
              "    </tr>\n",
              "  </thead>\n",
              "  <tbody>\n",
              "    <tr>\n",
              "      <th>0</th>\n",
              "      <td>2.684211</td>\n",
              "      <td>0.58000</td>\n",
              "      <td>0.42000</td>\n",
              "      <td>41.423077</td>\n",
              "      <td>0.703125</td>\n",
              "      <td>0.265625</td>\n",
              "      <td>0.000000</td>\n",
              "      <td>0.000000</td>\n",
              "      <td>0.0</td>\n",
              "      <td>0.015625</td>\n",
              "      <td>...</td>\n",
              "      <td>0.339286</td>\n",
              "      <td>0.035714</td>\n",
              "      <td>382</td>\n",
              "      <td>0.017857</td>\n",
              "      <td>217000.0</td>\n",
              "      <td>87.0</td>\n",
              "      <td>0.16005</td>\n",
              "      <td>2.0</td>\n",
              "      <td>1.0</td>\n",
              "      <td>0.0</td>\n",
              "    </tr>\n",
              "    <tr>\n",
              "      <th>1</th>\n",
              "      <td>2.161290</td>\n",
              "      <td>0.54717</td>\n",
              "      <td>0.45283</td>\n",
              "      <td>50.076923</td>\n",
              "      <td>0.746032</td>\n",
              "      <td>0.142857</td>\n",
              "      <td>0.047619</td>\n",
              "      <td>0.015873</td>\n",
              "      <td>0.0</td>\n",
              "      <td>0.015873</td>\n",
              "      <td>...</td>\n",
              "      <td>0.297872</td>\n",
              "      <td>0.042553</td>\n",
              "      <td>364</td>\n",
              "      <td>0.042553</td>\n",
              "      <td>225000.0</td>\n",
              "      <td>77.0</td>\n",
              "      <td>0.08790</td>\n",
              "      <td>2.0</td>\n",
              "      <td>1.0</td>\n",
              "      <td>0.0</td>\n",
              "    </tr>\n",
              "  </tbody>\n",
              "</table>\n",
              "<p>2 rows × 26 columns</p>\n",
              "</div>\n",
              "      <button class=\"colab-df-convert\" onclick=\"convertToInteractive('df-69f54571-898e-40ef-8fa8-80206559e2a9')\"\n",
              "              title=\"Convert this dataframe to an interactive table.\"\n",
              "              style=\"display:none;\">\n",
              "        \n",
              "  <svg xmlns=\"http://www.w3.org/2000/svg\" height=\"24px\"viewBox=\"0 0 24 24\"\n",
              "       width=\"24px\">\n",
              "    <path d=\"M0 0h24v24H0V0z\" fill=\"none\"/>\n",
              "    <path d=\"M18.56 5.44l.94 2.06.94-2.06 2.06-.94-2.06-.94-.94-2.06-.94 2.06-2.06.94zm-11 1L8.5 8.5l.94-2.06 2.06-.94-2.06-.94L8.5 2.5l-.94 2.06-2.06.94zm10 10l.94 2.06.94-2.06 2.06-.94-2.06-.94-.94-2.06-.94 2.06-2.06.94z\"/><path d=\"M17.41 7.96l-1.37-1.37c-.4-.4-.92-.59-1.43-.59-.52 0-1.04.2-1.43.59L10.3 9.45l-7.72 7.72c-.78.78-.78 2.05 0 2.83L4 21.41c.39.39.9.59 1.41.59.51 0 1.02-.2 1.41-.59l7.78-7.78 2.81-2.81c.8-.78.8-2.07 0-2.86zM5.41 20L4 18.59l7.72-7.72 1.47 1.35L5.41 20z\"/>\n",
              "  </svg>\n",
              "      </button>\n",
              "      \n",
              "  <style>\n",
              "    .colab-df-container {\n",
              "      display:flex;\n",
              "      flex-wrap:wrap;\n",
              "      gap: 12px;\n",
              "    }\n",
              "\n",
              "    .colab-df-convert {\n",
              "      background-color: #E8F0FE;\n",
              "      border: none;\n",
              "      border-radius: 50%;\n",
              "      cursor: pointer;\n",
              "      display: none;\n",
              "      fill: #1967D2;\n",
              "      height: 32px;\n",
              "      padding: 0 0 0 0;\n",
              "      width: 32px;\n",
              "    }\n",
              "\n",
              "    .colab-df-convert:hover {\n",
              "      background-color: #E2EBFA;\n",
              "      box-shadow: 0px 1px 2px rgba(60, 64, 67, 0.3), 0px 1px 3px 1px rgba(60, 64, 67, 0.15);\n",
              "      fill: #174EA6;\n",
              "    }\n",
              "\n",
              "    [theme=dark] .colab-df-convert {\n",
              "      background-color: #3B4455;\n",
              "      fill: #D2E3FC;\n",
              "    }\n",
              "\n",
              "    [theme=dark] .colab-df-convert:hover {\n",
              "      background-color: #434B5C;\n",
              "      box-shadow: 0px 1px 3px 1px rgba(0, 0, 0, 0.15);\n",
              "      filter: drop-shadow(0px 1px 2px rgba(0, 0, 0, 0.3));\n",
              "      fill: #FFFFFF;\n",
              "    }\n",
              "  </style>\n",
              "\n",
              "      <script>\n",
              "        const buttonEl =\n",
              "          document.querySelector('#df-69f54571-898e-40ef-8fa8-80206559e2a9 button.colab-df-convert');\n",
              "        buttonEl.style.display =\n",
              "          google.colab.kernel.accessAllowed ? 'block' : 'none';\n",
              "\n",
              "        async function convertToInteractive(key) {\n",
              "          const element = document.querySelector('#df-69f54571-898e-40ef-8fa8-80206559e2a9');\n",
              "          const dataTable =\n",
              "            await google.colab.kernel.invokeFunction('convertToInteractive',\n",
              "                                                     [key], {});\n",
              "          if (!dataTable) return;\n",
              "\n",
              "          const docLinkHtml = 'Like what you see? Visit the ' +\n",
              "            '<a target=\"_blank\" href=https://colab.research.google.com/notebooks/data_table.ipynb>data table notebook</a>'\n",
              "            + ' to learn more about interactive tables.';\n",
              "          element.innerHTML = '';\n",
              "          dataTable['output_type'] = 'display_data';\n",
              "          await google.colab.output.renderOutput(dataTable, element);\n",
              "          const docLink = document.createElement('div');\n",
              "          docLink.innerHTML = docLinkHtml;\n",
              "          element.appendChild(docLink);\n",
              "        }\n",
              "      </script>\n",
              "    </div>\n",
              "  </div>\n",
              "  "
            ]
          },
          "metadata": {},
          "execution_count": 7
        }
      ]
    },
    {
      "cell_type": "code",
      "source": [
        "yf.head()"
      ],
      "metadata": {
        "colab": {
          "base_uri": "https://localhost:8080/"
        },
        "id": "oERgnWJSNVLA",
        "outputId": "fbd96cc8-8dad-4597-b61e-6fa3c90f2289"
      },
      "execution_count": null,
      "outputs": [
        {
          "output_type": "execute_result",
          "data": {
            "text/plain": [
              "0    12.577041\n",
              "1    12.396693\n",
              "2    12.013701\n",
              "3    12.236150\n",
              "4    12.706848\n",
              "Name: median_Price, dtype: float64"
            ]
          },
          "metadata": {},
          "execution_count": 8
        }
      ]
    },
    {
      "cell_type": "markdown",
      "metadata": {
        "id": "c05DNRkJNOcX"
      },
      "source": [
        "## f_Drop median_cv"
      ]
    },
    {
      "cell_type": "markdown",
      "metadata": {
        "id": "xYNHsbst4yib"
      },
      "source": [
        "### Original models"
      ]
    },
    {
      "cell_type": "code",
      "source": [
        "## Decide modelling methods\n",
        "models = [Ridge(alpha=1, normalize=True),\n",
        "          DecisionTreeRegressor(),\n",
        "          RandomForestRegressor()]\n",
        "## Use 5-Fold cross validatin which wraped in the 'cross_val_score' function\n",
        "rmse_f = dict()\n",
        "for m in models:\n",
        "    m_name = str(m).split('(')[0]\n",
        "    scores = cross_val_score(m, X=xf_nocv, y=yf, cv = 5, scoring=\"neg_mean_squared_error\")\n",
        "    rmse_f[m_name] = np.sqrt(-scores)    ## Convert from MSE to RMSE\n",
        "    print(m_name + ' is finished')\n",
        "\n",
        "## Dispaly the model results in type of DataFrame\n",
        "rmse_f = pd.DataFrame(rmse_f)   \n",
        "rmse_f.index = ['cv' + str(x) for x in range(1, 6)]\n",
        "rmse_f.loc['RMSE'] = rmse_f.apply(lambda x: x.mean())\n",
        "print(rmse_f)"
      ],
      "metadata": {
        "colab": {
          "base_uri": "https://localhost:8080/"
        },
        "id": "BJ5xv5FdOWMQ",
        "outputId": "5e2af8e0-b0be-452a-efe1-5ca18a74eb7f"
      },
      "execution_count": null,
      "outputs": [
        {
          "output_type": "stream",
          "name": "stdout",
          "text": [
            "Ridge is finished\n",
            "DecisionTreeRegressor is finished\n",
            "RandomForestRegressor is finished\n",
            "         Ridge  DecisionTreeRegressor  RandomForestRegressor\n",
            "cv1   0.306604               0.397915               0.271742\n",
            "cv2   0.279025               0.357651               0.255879\n",
            "cv3   0.391600               0.442457               0.336262\n",
            "cv4   0.257073               0.357963               0.252181\n",
            "cv5   0.269746               0.380929               0.250418\n",
            "RMSE  0.300810               0.387383               0.273296\n"
          ]
        }
      ]
    },
    {
      "cell_type": "markdown",
      "metadata": {
        "id": "4TvrYZbq5HhW"
      },
      "source": [
        "### Tuning hyperparameters "
      ]
    },
    {
      "cell_type": "code",
      "source": [
        "## Tuning the Hyperparameters for Ridge Regressor\n",
        "## Grid Search Method\n",
        "\n",
        "from sklearn.model_selection import GridSearchCV\n",
        "parameters_ridge = {'alpha': [0.001, 0.005, 0.01, 0.1, 0.5, 1, 3, 5, 7, 10, 20]}\n",
        "model_ridge = Ridge(normalize = True)\n",
        "gs_dt = GridSearchCV(model_ridge, parameters_ridge, cv=5, scoring='neg_mean_squared_error')\n",
        "gs_dt.fit(xf_nocv, yf)\n",
        "\n",
        "print(\"Best_params for Ridge model:{0}\\nBest_RMSE for Ridge model:{1}\".format(gs_dt.best_params_, np.sqrt(-gs_dt.best_score_)))"
      ],
      "metadata": {
        "colab": {
          "base_uri": "https://localhost:8080/"
        },
        "id": "5O-pAXmbPtoe",
        "outputId": "4bec1462-bbfb-4ff9-dfec-cc8a627f6a3d"
      },
      "execution_count": null,
      "outputs": [
        {
          "output_type": "stream",
          "name": "stdout",
          "text": [
            "Best_params for Ridge model:{'alpha': 0.005}\n",
            "Best_RMSE for Ridge model:0.2822841723652414\n"
          ]
        }
      ]
    },
    {
      "cell_type": "code",
      "execution_count": null,
      "metadata": {
        "colab": {
          "base_uri": "https://localhost:8080/"
        },
        "id": "01p0Gzzc3-E_",
        "outputId": "2ba81baa-1958-4081-f2a7-a75f3055cdbe"
      },
      "outputs": [
        {
          "name": "stdout",
          "output_type": "stream",
          "text": [
            "Best_params for DTR model:{'max_depth': 6, 'min_samples_split': 80}\n",
            "Best_RMSE for DTR model:0.3049867604004201\n"
          ]
        }
      ],
      "source": [
        "## Tuning the Hyperparameters for Decision Tree Regressor\n",
        "## Grid Search Method\n",
        "\n",
        "from sklearn.model_selection import GridSearchCV\n",
        "parameters_dt = {'max_depth': range(1,24), 'min_samples_split': range(10, 100, 10)}\n",
        "model_dt = DecisionTreeRegressor()\n",
        "gs_dt = GridSearchCV(model_dt, parameters_dt, cv=5, scoring='neg_mean_squared_error')\n",
        "gs_dt.fit(xf_nocv, yf)\n",
        "\n",
        "print(\"Best_params for DTR model:{0}\\nBest_RMSE for DTR model:{1}\".format(gs_dt.best_params_, np.sqrt(-gs_dt.best_score_)))"
      ]
    },
    {
      "cell_type": "code",
      "execution_count": null,
      "metadata": {
        "colab": {
          "base_uri": "https://localhost:8080/"
        },
        "id": "Shlyutw4BR85",
        "outputId": "85b44b1d-40de-47cb-fa8d-cba95169d7e5"
      },
      "outputs": [
        {
          "output_type": "stream",
          "name": "stdout",
          "text": [
            "Best_params for RFR model:{'max_depth': 16, 'min_samples_split': 10, 'n_estimators': 80}\n",
            "Best_RMSE for RFR model:0.27498310839214146\n"
          ]
        }
      ],
      "source": [
        "## Tuning the Hyperparameters for Random Forest Regressor\n",
        "## Grid Search Method\n",
        "\n",
        "from sklearn.model_selection import GridSearchCV\n",
        "parameters_rf_test1 = {'n_estimators': range(50, 100, 10), 'max_depth': range(2,20), 'min_samples_split': range(10, 100, 10)}\n",
        "model_rf = RandomForestRegressor()\n",
        "gs_rf = GridSearchCV(model_rf, parameters_rf_test1, cv=5, scoring='neg_mean_squared_error', n_jobs=20)\n",
        "gs_rf.fit(xf_nocv, yf)\n",
        "\n",
        "print(\"Best_params for RFR model:{0}\\nBest_RMSE for RFR model:{1}\".format(gs_rf.best_params_, np.sqrt(-gs_rf.best_score_)))"
      ]
    },
    {
      "cell_type": "code",
      "source": [
        "## Tuning the Hyperparameters for Multi-layer Perceptron Regressor\n",
        "## Grid Search Method\n",
        "\n",
        "parameters_mlp = {\n",
        "    'hidden_layer_sizes': [(150,100,50), (120,80,40), (100,50,30)],\n",
        "    'max_iter': [50, 100],\n",
        "    'activation': ['tanh', 'relu'],\n",
        "    'solver': ['sgd', 'adam'],\n",
        "    'alpha': [0.0001, 0.05],\n",
        "    'learning_rate': ['constant','adaptive'],\n",
        "}\n",
        "model_mlp = MLPRegressor()\n",
        "gs_mlp = GridSearchCV(model_mlp, parameters_mlp, cv=5, scoring='neg_mean_squared_error', n_jobs=20)\n",
        "gs_mlp.fit(xf_nocv, yf)\n",
        "\n",
        "print(\"Best_params for MLP model:{0}\\nBest_RMSE for MLP model:{1}\".format(gs_mlp.best_params_, np.sqrt(-gs_mlp.best_score_)))"
      ],
      "metadata": {
        "colab": {
          "base_uri": "https://localhost:8080/"
        },
        "id": "xvPTZZDlp5Zg",
        "outputId": "3774100c-5e54-4975-febc-5863e3ada48e"
      },
      "execution_count": null,
      "outputs": [
        {
          "output_type": "stream",
          "name": "stdout",
          "text": [
            "Best_params for MLP model:{'activation': 'tanh', 'alpha': 0.0001, 'hidden_layer_sizes': (150, 100, 50), 'learning_rate': 'adaptive', 'max_iter': 50, 'solver': 'adam'}\n",
            "Best_RMSE for MLP model:0.44486105785790286\n"
          ]
        }
      ]
    },
    {
      "cell_type": "markdown",
      "metadata": {
        "id": "v91KqQm_R5GV"
      },
      "source": [
        "### Improved Models"
      ]
    },
    {
      "cell_type": "code",
      "execution_count": null,
      "metadata": {
        "colab": {
          "base_uri": "https://localhost:8080/"
        },
        "id": "F5IgGRCGR5Yw",
        "outputId": "6b47aebd-5329-485e-e5bc-39c6ab93a438"
      },
      "outputs": [
        {
          "output_type": "stream",
          "name": "stdout",
          "text": [
            "Ridge is finished\n",
            "DecisionTreeRegressor is finished\n",
            "RandomForestRegressor is finished\n",
            "\n",
            "\n",
            "The cross validation results in three models are as follows:\n",
            "         Ridge  DecisionTreeRegressor  RandomForestRegressor\n",
            "cv1   0.303220               0.303937               0.273089\n",
            "cv2   0.253645               0.294738               0.255268\n",
            "cv3   0.327335               0.363934               0.337563\n",
            "cv4   0.253652               0.273264               0.253247\n",
            "cv5   0.265812               0.280562               0.251508\n",
            "RMSE  0.280733               0.303287               0.274135\n"
          ]
        }
      ],
      "source": [
        "## Decide modelling methods\n",
        "models2 = [Ridge(alpha = 0.005, normalize = True),\n",
        "      DecisionTreeRegressor(max_depth = 6, min_samples_split = 80),\n",
        "      RandomForestRegressor(n_estimators = 80, max_depth = 16, min_samples_split =10),\n",
        "      ]\n",
        "\n",
        "## Use 5-Fold cross validatin which wraped in the 'cross_val_score' function\n",
        "rmse_f2 = dict()\n",
        "for m in models2:\n",
        "    m_name = str(m).split('(')[0]\n",
        "    scores = cross_val_score(m, X=xf_nocv, y=yf, cv = 5, scoring=\"neg_mean_squared_error\")\n",
        "    rmse_f2[m_name] = np.sqrt(-scores)    ## Convert from MSE to RMSE\n",
        "    print(m_name + ' is finished')\n",
        "print(\"\\n\")\n",
        "## Dispaly the model results in type of DataFrame\n",
        "rmse_f2 = pd.DataFrame(rmse_f2)   \n",
        "rmse_f2.index = ['cv' + str(x) for x in range(1, 6)]\n",
        "rmse_f2.loc['RMSE'] = rmse_f2.apply(lambda x: x.mean())\n",
        "print(\"The cross validation results in three models are as follows:\\n{}\".format(rmse_f2))"
      ]
    },
    {
      "cell_type": "markdown",
      "source": [
        "### Feature importance"
      ],
      "metadata": {
        "id": "GQ1v_Hg_SSuV"
      }
    },
    {
      "cell_type": "code",
      "source": [
        "rf = RandomForestRegressor(n_estimators = 80, max_depth = 16, min_samples_split =10)\n",
        "rf.fit(xf_nocv, yf)\n",
        "rf_imp = rf.feature_importances_\n",
        "ind = np.argsort(rf_imp)\n",
        "\n",
        "fig, ax = plt.subplots()\n",
        "ax.barh(range(len(rf_imp)), rf_imp[ind])\n",
        "ax.set_yticks(range(len(rf_imp)))\n",
        "_ = ax.set_yticklabels(np.array(xf_nocv.columns)[ind])\n",
        "ax.set_title(\"Random Forest Feature Importances (MDI)\")\n",
        "ax.figure.tight_layout()"
      ],
      "metadata": {
        "colab": {
          "base_uri": "https://localhost:8080/",
          "height": 297
        },
        "id": "K31SiBdISQZ7",
        "outputId": "2a6ff037-091c-4f7c-ae6c-767b36378616"
      },
      "execution_count": null,
      "outputs": [
        {
          "output_type": "display_data",
          "data": {
            "text/plain": [
              "<Figure size 432x288 with 1 Axes>"
            ],
            "image/png": "[encoded data removed]"
          },
          "metadata": {
            "needs_background": "light"
          }
        }
      ]
    },
    {
      "cell_type": "code",
      "source": [
        "from sklearn.inspection import permutation_importance\n",
        "\n",
        "result = permutation_importance(\n",
        "    rf, xf_nocv, yf, n_repeats=10, random_state=760, n_jobs=2\n",
        ")\n",
        "\n",
        "sorted_importances_idx = result.importances_mean.argsort()\n",
        "importances = pd.DataFrame(\n",
        "    result.importances[sorted_importances_idx].T,\n",
        "    columns=xf_nocv.columns[sorted_importances_idx],\n",
        ")\n",
        "ax = importances.plot.box(vert=False, whis=10)\n",
        "ax.set_title(\"Permutation Importances\")\n",
        "ax.axvline(x=0, color=\"k\", linestyle=\"--\")\n",
        "ax.set_xlabel(\"Decrease in accuracy score\")\n",
        "ax.figure.tight_layout()"
      ],
      "metadata": {
        "colab": {
          "base_uri": "https://localhost:8080/",
          "height": 297
        },
        "id": "hWcE2LtJlfRv",
        "outputId": "0531d00f-9995-45e4-aa02-f2c74e6dcd1c"
      },
      "execution_count": null,
      "outputs": [
        {
          "output_type": "display_data",
          "data": {
            "text/plain": [
              "<Figure size 432x288 with 1 Axes>"
            ],
            "image/png": "[encoded data removed]"
          },
          "metadata": {
            "needs_background": "light"
          }
        }
      ]
    },
    {
      "cell_type": "markdown",
      "source": [],
      "metadata": {
        "id": "0sc8555nn5Pa"
      }
    },
    {
      "cell_type": "code",
      "source": [
        "mlp_reg = MLPRegressor(hidden_layer_sizes=(150,100,50),\n",
        "             max_iter = 300,activation = 'relu',\n",
        "             solver = 'adam')\n",
        "## Decide modelling methods\n",
        "models = [Ridge(alpha=1, normalize=True),\n",
        "          DecisionTreeRegressor(),\n",
        "          RandomForestRegressor(),\n",
        "          MLPRegressor()]\n",
        "## Use 5-Fold cross validatin which wraped in the 'cross_val_score' function\n",
        "rmse_f = dict()\n",
        "for m in models:\n",
        "    m_name = str(m).split('(')[0]\n",
        "    scores = cross_val_score(m, X=xf_nocv, y=yf, cv = 5, scoring=\"neg_mean_squared_error\")\n",
        "    rmse_f[m_name] = np.sqrt(-scores)    ## Convert from MSE to RMSE\n",
        "    print(m_name + ' is finished')\n",
        "\n",
        "## Dispaly the model results in type of DataFrame\n",
        "rmse_f = pd.DataFrame(rmse_f)   \n",
        "rmse_f.index = ['cv' + str(x) for x in range(1, 6)]\n",
        "rmse_f.loc['RMSE'] = rmse_f.apply(lambda x: x.mean())\n",
        "print(rmse_f)"
      ],
      "metadata": {
        "colab": {
          "base_uri": "https://localhost:8080/"
        },
        "id": "x1ZDQdO6n5aA",
        "outputId": "47349755-2b68-454a-f460-d60cae03102a"
      },
      "execution_count": null,
      "outputs": [
        {
          "output_type": "stream",
          "name": "stdout",
          "text": [
            "Ridge is finished\n",
            "DecisionTreeRegressor is finished\n",
            "RandomForestRegressor is finished\n",
            "MLPRegressor is finished\n",
            "         Ridge  DecisionTreeRegressor  RandomForestRegressor  MLPRegressor\n",
            "cv1   0.306604               0.399919               0.273570      1.555624\n",
            "cv2   0.279025               0.364786               0.256542      1.426041\n",
            "cv3   0.391600               0.439309               0.338222      1.324128\n",
            "cv4   0.257073               0.362363               0.251714      1.642085\n",
            "cv5   0.269746               0.381670               0.250439      1.935013\n",
            "RMSE  0.300810               0.389609               0.274097      1.576578\n"
          ]
        }
      ]
    },
    {
      "cell_type": "markdown",
      "metadata": {
        "id": "y5ewgWdPN6JB"
      },
      "source": [
        "# Baseline Model- with crime data"
      ]
    },
    {
      "cell_type": "code",
      "execution_count": null,
      "metadata": {
        "colab": {
          "base_uri": "https://localhost:8080/"
        },
        "id": "aJ5F0h68N_E3",
        "outputId": "c4f487e4-c465-4a63-d1af-730a9dcd6ff3"
      },
      "outputs": [
        {
          "output_type": "execute_result",
          "data": {
            "text/plain": [
              "Index(['averge_room', 'Male', 'Female', 'Average Age', 'European', 'Māori',\n",
              "       'Pacific Peoples', 'Asian', 'Middle Eastern / Latin American / African',\n",
              "       'Other Ethnicity', 'New Zealander(19)', 'Other Ethnicity nec(19)',\n",
              "       'Median personal income($)', 'Employed Full time', 'Employed Part time',\n",
              "       'Unemployed', 'Paid employee', 'Employer',\n",
              "       'Self employed and without employees', 'Unpaid family worker',\n",
              "       'median_CV', 'median_FA', 'median_AR', 'median_bed', 'median_Bath',\n",
              "       'median_Price', 'median_school', 'weighted_weapon', 'weighted_crime',\n",
              "       'Number_of_happens', 'Number of Victimisations'],\n",
              "      dtype='object')"
            ]
          },
          "metadata": {},
          "execution_count": 4
        }
      ],
      "source": [
        "fc = pd.read_csv('/content/drive/MyDrive/COMPSCI760/data_withcrime_31.csv')\n",
        "fc.columns"
      ]
    },
    {
      "cell_type": "code",
      "execution_count": null,
      "metadata": {
        "colab": {
          "base_uri": "https://localhost:8080/"
        },
        "id": "kRK3YHMWOG_C",
        "outputId": "351522b3-d4e1-4207-f69b-a8b4d87e9057"
      },
      "outputs": [
        {
          "output_type": "execute_result",
          "data": {
            "text/plain": [
              "Index(['averge_room', 'Male', 'Female', 'Average Age', 'European', 'Māori',\n",
              "       'Pacific Peoples', 'Asian', 'Middle Eastern / Latin American / African',\n",
              "       'Other Ethnicity', 'New Zealander(19)', 'Other Ethnicity nec(19)',\n",
              "       'Median personal income($)', 'Employed Full time', 'Employed Part time',\n",
              "       'Unemployed', 'Paid employee', 'Employer',\n",
              "       'Self employed and without employees', 'Unpaid family worker',\n",
              "       'median_CV', 'median_FA', 'median_AR', 'median_bed', 'median_Bath',\n",
              "       'median_Price', 'median_school', 'weighted_weapon', 'weighted_crime',\n",
              "       'Number_of_happens', 'Number of Victimisations'],\n",
              "      dtype='object')"
            ]
          },
          "metadata": {},
          "execution_count": 5
        }
      ],
      "source": [
        "fc = fc.rename(columns={'mean_CV':'median_CV', 'mean_FA':'median_FA','mean_AR':'median_AR','mean_bed':'median_Bed','mean_Bath':'median_Bath','mean_Price':'median_Price','mean_school':'median_School'})\n",
        "fc.columns"
      ]
    },
    {
      "cell_type": "code",
      "execution_count": null,
      "metadata": {
        "colab": {
          "base_uri": "https://localhost:8080/"
        },
        "id": "07VPy08BOcBg",
        "outputId": "2e41bb76-30da-4278-d88a-454d1240f084"
      },
      "outputs": [
        {
          "output_type": "stream",
          "name": "stdout",
          "text": [
            "(7417, 30) (7417, 29) (7417,)\n"
          ]
        }
      ],
      "source": [
        "xfc = fc.drop(['median_Price'], axis=1)\n",
        "xfc_nocv = fc.drop(['median_CV', 'median_Price'], axis = 1)\n",
        "yfc = fc['median_Price']\n",
        "print(xfc.shape, xfc_nocv.shape, yfc.shape)"
      ]
    },
    {
      "cell_type": "markdown",
      "metadata": {
        "id": "3ZpBbs9tPkfp"
      },
      "source": [
        "## fc_Drop median_cv"
      ]
    },
    {
      "cell_type": "markdown",
      "metadata": {
        "id": "SeTAfIFJm4yA"
      },
      "source": [
        "### Original models"
      ]
    },
    {
      "cell_type": "code",
      "execution_count": null,
      "metadata": {
        "colab": {
          "base_uri": "https://localhost:8080/"
        },
        "id": "8ZLxsVYeOnST",
        "outputId": "4e60f3e8-a8ef-4bc6-8d48-f8994120b960"
      },
      "outputs": [
        {
          "output_type": "stream",
          "name": "stdout",
          "text": [
            "Ridge is finished\n",
            "DecisionTreeRegressor is finished\n",
            "RandomForestRegressor is finished\n",
            "         Ridge  DecisionTreeRegressor  RandomForestRegressor\n",
            "cv1   0.309867               0.412602               0.268631\n",
            "cv2   0.269364               0.350785               0.250700\n",
            "cv3   0.390927               0.432083               0.339346\n",
            "cv4   0.255324               0.349877               0.251354\n",
            "cv5   0.266075               0.365154               0.247385\n",
            "RMSE  0.300810               0.387383               0.273296\n"
          ]
        }
      ],
      "source": [
        "## Decide modelling methods\n",
        "models_fc = [Ridge(alpha=1, normalize=True),\n",
        "      DecisionTreeRegressor(),\n",
        "      RandomForestRegressor(),\n",
        "      ]\n",
        "\n",
        "## Use 5-Fold cross validatin which wraped in the 'cross_val_score' function\n",
        "rmse_fc = dict()\n",
        "for m in models_fc:\n",
        "    m_name = str(m).split('(')[0]\n",
        "    scores = cross_val_score(m, X=xfc_nocv, y=yfc, cv = 5, scoring=\"neg_mean_squared_error\")\n",
        "    rmse_fc[m_name] = np.sqrt(-scores)    ## Convert from MSE to RMSE\n",
        "    print(m_name + ' is finished')\n",
        "\n",
        "## Dispaly the model results in type of DataFrame\n",
        "rmse_fc = pd.DataFrame(rmse_fc)   \n",
        "rmse_fc.index = ['cv' + str(x) for x in range(1, 6)]\n",
        "rmse_fc.loc['RMSE'] = rmse_f.apply(lambda x: x.mean())\n",
        "print(rmse_fc)"
      ]
    },
    {
      "cell_type": "markdown",
      "metadata": {
        "id": "HfkXqFHenCBD"
      },
      "source": [
        "### Tuning hyperparameters"
      ]
    },
    {
      "cell_type": "code",
      "source": [
        "## Tuning the Hyperparameters for Ridge Regressor\n",
        "## Grid Search Method\n",
        "\n",
        "from sklearn.model_selection import GridSearchCV\n",
        "parameters_ridge_c = {'alpha': [0.001, 0.005, 0.01, 0.1, 0.5, 1, 3, 5, 7, 10, 20]}\n",
        "model_ridge_c = Ridge(normalize = True)\n",
        "gs_dt_c = GridSearchCV(model_ridge_c, parameters_ridge_c, cv=5, scoring='neg_mean_squared_error')\n",
        "gs_dt_c.fit(xfc_nocv, yfc)\n",
        "\n",
        "print(\"Best_params for Ridge model:{0}\\nBest_RMSE for Ridge model:{1}\".format(gs_dt.best_params_, np.sqrt(-gs_dt.best_score_)))"
      ],
      "metadata": {
        "colab": {
          "base_uri": "https://localhost:8080/"
        },
        "id": "YvVHBm-EiV6Y",
        "outputId": "5ad75695-e4c7-4516-c9cf-38ae1c69c213"
      },
      "execution_count": null,
      "outputs": [
        {
          "output_type": "stream",
          "name": "stdout",
          "text": [
            "Best_params for Ridge model:{'alpha': 0.005}\n",
            "Best_RMSE for Ridge model:0.2822841723652414\n"
          ]
        }
      ]
    },
    {
      "cell_type": "code",
      "execution_count": null,
      "metadata": {
        "colab": {
          "base_uri": "https://localhost:8080/"
        },
        "id": "LyjIV2XsjXd9",
        "outputId": "3bf1c30f-df92-4094-f4ff-4cbe5df32f46"
      },
      "outputs": [
        {
          "output_type": "stream",
          "name": "stdout",
          "text": [
            "Best_params for DTR model:{'max_depth': 5, 'min_samples_split': 20}\n",
            "Best_RMSE for DTR model:0.310653134598138\n"
          ]
        }
      ],
      "source": [
        "## Tuning the Hyperparameters for Decision Tree Regressor\n",
        "## Grid Search Method\n",
        "\n",
        "from sklearn.model_selection import GridSearchCV\n",
        "parameters_dt_c = {'max_depth': range(5,10), 'min_samples_split': range(10, 100, 10)}\n",
        "model_dt_c = DecisionTreeRegressor()\n",
        "gs_dt_c = GridSearchCV(model_dt_c, parameters_dt_c, cv=5, scoring='neg_mean_squared_error')\n",
        "gs_dt_c.fit(xfc_nocv, yfc)\n",
        "\n",
        "print(\"Best_params for DTR model:{0}\\nBest_RMSE for DTR model:{1}\".format(gs_dt_c.best_params_, np.sqrt(-gs_dt_c.best_score_)))"
      ]
    },
    {
      "cell_type": "code",
      "execution_count": null,
      "metadata": {
        "colab": {
          "base_uri": "https://localhost:8080/"
        },
        "id": "CLvXuzy5kSxj",
        "outputId": "442a6ac8-10f7-4745-f41e-27addc3505c7"
      },
      "outputs": [
        {
          "output_type": "stream",
          "name": "stdout",
          "text": [
            "Best_params for RFR model:{'max_depth': 13, 'min_samples_split': 10, 'n_estimators': 60}\n",
            "Best_RMSE for RFR model:0.2739433091402011\n"
          ]
        }
      ],
      "source": [
        "## Tuning the Hyperparameters for Random Forest Regressor\n",
        "## Grid Search Method\n",
        "\n",
        "from sklearn.model_selection import GridSearchCV\n",
        "parameters_rf_test1_c = {'n_estimators': range(50, 100, 10), 'max_depth': range(2,20), 'min_samples_split': range(10, 100, 10)}\n",
        "model_rf = RandomForestRegressor()\n",
        "gs_rf_c = GridSearchCV(model_rf, parameters_rf_test1_c, cv=5, scoring='neg_mean_squared_error', n_jobs=-1)\n",
        "gs_rf_c.fit(xfc_nocv, yfc)\n",
        "\n",
        "print(\"Best_params for RFR model:{0}\\nBest_RMSE for RFR model:{1}\".format(gs_rf_c.best_params_, np.sqrt(-gs_rf_c.best_score_)))"
      ]
    },
    {
      "cell_type": "code",
      "source": [
        "## Tuning the Hyperparameters for Multi-layer Perceptron Regressor\n",
        "## Grid Search Method\n",
        "\n",
        "parameters_mlp_c = {\n",
        "    'hidden_layer_sizes': [(150,100,50), (120,80,40), (100,50,30)],\n",
        "    'max_iter': [50, 100],\n",
        "    'activation': ['tanh', 'relu'],\n",
        "    'solver': ['sgd', 'adam'],\n",
        "    'alpha': [0.0001, 0.05],\n",
        "    'learning_rate': ['constant','adaptive'],\n",
        "}\n",
        "model_mlp_c = MLPRegressor()\n",
        "gs_mlp_c = GridSearchCV(model_mlp_c, parameters_mlp_c, cv=5, scoring='neg_mean_squared_error', n_jobs=-1)\n",
        "gs_mlp_c.fit(xfc_nocv, yfc)\n",
        "\n",
        "print(\"Best_params for MLP model:{0}\\nBest_RMSE for MLP model:{1}\".format(gs_mlp_c.best_params_, np.sqrt(-gs_mlp_c.best_score_)))"
      ],
      "metadata": {
        "colab": {
          "base_uri": "https://localhost:8080/"
        },
        "id": "tAyODlc7Bl9w",
        "outputId": "337f3b2c-50af-4282-d73d-a138535f9e9e"
      },
      "execution_count": null,
      "outputs": [
        {
          "output_type": "stream",
          "name": "stdout",
          "text": [
            "Best_params for MLP model:{'activation': 'tanh', 'alpha': 0.0001, 'hidden_layer_sizes': (100, 50, 30), 'learning_rate': 'adaptive', 'max_iter': 100, 'solver': 'adam'}\n",
            "Best_RMSE for MLP model:0.478523466982902\n"
          ]
        }
      ]
    },
    {
      "cell_type": "markdown",
      "metadata": {
        "id": "yXOi72EunO3x"
      },
      "source": [
        "### Improved models"
      ]
    },
    {
      "cell_type": "code",
      "execution_count": null,
      "metadata": {
        "id": "c8UvykJRliJm",
        "colab": {
          "base_uri": "https://localhost:8080/"
        },
        "outputId": "936b8507-5ea8-4394-fcf5-610af7d0cc7e"
      },
      "outputs": [
        {
          "output_type": "stream",
          "name": "stdout",
          "text": [
            "Ridge is finished\n",
            "DecisionTreeRegressor is finished\n",
            "RandomForestRegressor is finished\n",
            "\n",
            "\n",
            "The cross validation results in three models are as follows:\n",
            "         Ridge  DecisionTreeRegressor  RandomForestRegressor\n",
            "cv1   0.304805               0.311047               0.271721\n",
            "cv2   0.246336               0.292014               0.253093\n",
            "cv3   0.326782               0.384405               0.340693\n",
            "cv4   0.253685               0.270697               0.252364\n",
            "cv5   0.264615               0.281896               0.249565\n",
            "RMSE  0.279245               0.308012               0.273487\n"
          ]
        }
      ],
      "source": [
        "## Decide modelling methods\n",
        "models2_c = [Ridge(alpha = 0.005, normalize = True),\n",
        "       DecisionTreeRegressor(max_depth = 5, min_samples_split = 30),\n",
        "       RandomForestRegressor(n_estimators = 60, max_depth = 13, min_samples_split =10),\n",
        "       ]\n",
        "\n",
        "## Use 5-Fold cross validatin which wraped in the 'cross_val_score' function\n",
        "rmse_f2_c = dict()\n",
        "for m in models2_c:\n",
        "    m_name = str(m).split('(')[0]\n",
        "    scores = cross_val_score(m, X=xfc_nocv, y=yfc, cv = 5, scoring=\"neg_mean_squared_error\")\n",
        "    rmse_f2_c[m_name] = np.sqrt(-scores)    ## Convert from MSE to RMSE\n",
        "    print(m_name + ' is finished')\n",
        "print(\"\\n\")\n",
        "## Dispaly the model results in type of DataFrame\n",
        "rmse_f2_c = pd.DataFrame(rmse_f2_c)   \n",
        "rmse_f2_c.index = ['cv' + str(x) for x in range(1, 6)]\n",
        "rmse_f2_c.loc['RMSE'] = rmse_f2_c.apply(lambda x: x.mean())\n",
        "print(\"The cross validation results in three models are as follows:\\n{}\".format(rmse_f2_c))"
      ]
    },
    {
      "cell_type": "markdown",
      "source": [
        "### Feature Importance"
      ],
      "metadata": {
        "id": "33vdrMvAjC51"
      }
    },
    {
      "cell_type": "code",
      "source": [
        "rf_c = RandomForestRegressor(n_estimators = 80, max_depth = 16, min_samples_split =10)\n",
        "rf_c.fit(xfc_nocv, yfc)\n",
        "rf_imp_c = rf_c.feature_importances_\n",
        "ind_c = np.argsort(rf_imp_c)\n",
        "\n",
        "fig, ax = plt.subplots()\n",
        "\n",
        "ax.barh(range(len(rf_imp_c)), rf_imp_c[ind_c])\n",
        "ax.set_yticks(range(len(rf_imp_c)))\n",
        "_ = ax.set_yticklabels(np.array(xfc_nocv.columns)[ind_c])\n",
        "ax.set_title(\"Random Forest Feature Importances (MDI, with crime features)\")\n",
        "ax.figure.tight_layout()"
      ],
      "metadata": {
        "colab": {
          "base_uri": "https://localhost:8080/",
          "height": 297
        },
        "id": "4uFJb_zpi1VD",
        "outputId": "ae2c1757-2b2e-4984-c8ee-19ceb879acc9"
      },
      "execution_count": null,
      "outputs": [
        {
          "output_type": "display_data",
          "data": {
            "text/plain": [
              "<Figure size 432x288 with 1 Axes>"
            ],
            "image/png": "[encoded data removed]"
          },
          "metadata": {
            "needs_background": "light"
          }
        }
      ]
    },
    {
      "cell_type": "code",
      "source": [
        "from sklearn.inspection import permutation_importance\n",
        "\n",
        "result_c = permutation_importance(\n",
        "    rf_c, xfc_nocv, yfc, n_repeats=10, random_state=760, n_jobs=2\n",
        ")\n",
        "\n",
        "sorted_importances_idx_c = result_c.importances_mean.argsort()\n",
        "importances_c = pd.DataFrame(\n",
        "    result_c.importances[sorted_importances_idx_c].T,\n",
        "    columns = xfc_nocv.columns[sorted_importances_idx_c],\n",
        ")\n",
        "ax = importances_c.plot.box(vert=False, whis=10)\n",
        "ax.set_title(\"Permutation Importances\")\n",
        "ax.axvline(x=0, color=\"k\", linestyle=\"--\")\n",
        "ax.set_xlabel(\"Decrease in accuracy score (with crime features)\")\n",
        "ax.figure.tight_layout()"
      ],
      "metadata": {
        "colab": {
          "base_uri": "https://localhost:8080/",
          "height": 297
        },
        "id": "GcwL5uic-E_N",
        "outputId": "de029c29-ee07-49fe-c11b-77e95dd26a51"
      },
      "execution_count": null,
      "outputs": [
        {
          "output_type": "display_data",
          "data": {
            "text/plain": [
              "<Figure size 432x288 with 1 Axes>"
            ],
            "image/png": "[encoded data removed]"
          },
          "metadata": {
            "needs_background": "light"
          }
        }
      ]
    }
  ],
  "metadata": {
    "accelerator": "TPU",
    "colab": {
      "collapsed_sections": [],
      "provenance": []
    },
    "kernelspec": {
      "display_name": "Python 3",
      "name": "python3"
    },
    "language_info": {
      "name": "python"
    }
  },
  "nbformat": 4,
  "nbformat_minor": 0
}